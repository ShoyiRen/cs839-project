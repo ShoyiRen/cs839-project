{
 "cells": [
  {
   "cell_type": "markdown",
   "metadata": {},
   "source": [
    "# Stage 3 : Entity matching"
   ]
  },
  {
   "cell_type": "markdown",
   "metadata": {},
   "source": [
    "###  Read in the input tables A, B"
   ]
  },
  {
   "cell_type": "code",
   "execution_count": 1,
   "metadata": {},
   "outputs": [
    {
     "name": "stderr",
     "output_type": "stream",
     "text": [
      "Metadata file is not present in the given path; proceeding to read the csv file.\n",
      "Metadata file is not present in the given path; proceeding to read the csv file.\n"
     ]
    }
   ],
   "source": [
    "import py_entitymatching as em\n",
    "\n",
    "# Load data files\n",
    "A = em.read_csv_metadata('./TableA.csv', key='ID')\n",
    "B = em.read_csv_metadata('./TableB.csv', key='ID')"
   ]
  },
  {
   "cell_type": "code",
   "execution_count": 2,
   "metadata": {},
   "outputs": [
    {
     "data": {
      "text/html": [
       "<div>\n",
       "<style scoped>\n",
       "    .dataframe tbody tr th:only-of-type {\n",
       "        vertical-align: middle;\n",
       "    }\n",
       "\n",
       "    .dataframe tbody tr th {\n",
       "        vertical-align: top;\n",
       "    }\n",
       "\n",
       "    .dataframe thead th {\n",
       "        text-align: right;\n",
       "    }\n",
       "</style>\n",
       "<table border=\"1\" class=\"dataframe\">\n",
       "  <thead>\n",
       "    <tr style=\"text-align: right;\">\n",
       "      <th></th>\n",
       "      <th>ID</th>\n",
       "      <th>title</th>\n",
       "      <th>author</th>\n",
       "      <th>isbn</th>\n",
       "      <th>publisher</th>\n",
       "      <th>edition</th>\n",
       "      <th>pages</th>\n",
       "      <th>dimension</th>\n",
       "    </tr>\n",
       "  </thead>\n",
       "  <tbody>\n",
       "    <tr>\n",
       "      <th>0</th>\n",
       "      <td>1</td>\n",
       "      <td>Cry Wolf (Alpha and Omega Series #1)</td>\n",
       "      <td>Patricia Briggs</td>\n",
       "      <td>9780441016150</td>\n",
       "      <td>Penguin Publishing Group</td>\n",
       "      <td>NaN</td>\n",
       "      <td>320.0</td>\n",
       "      <td>4.10(w) x 6.70(h) x 1.10(d)</td>\n",
       "    </tr>\n",
       "    <tr>\n",
       "      <th>1</th>\n",
       "      <td>2</td>\n",
       "      <td>DK Braille: Animals</td>\n",
       "      <td>Dorling Kindersley Publishing Staff</td>\n",
       "      <td>9781465436115</td>\n",
       "      <td>DK</td>\n",
       "      <td>Large Print</td>\n",
       "      <td>32.0</td>\n",
       "      <td>8.60(w) x 10.70(h) x 0.90(d)</td>\n",
       "    </tr>\n",
       "    <tr>\n",
       "      <th>2</th>\n",
       "      <td>3</td>\n",
       "      <td>An American Marriage (Oprah's Book Club)</td>\n",
       "      <td>Tayari Jones</td>\n",
       "      <td>9781616208776</td>\n",
       "      <td>Algonquin Books of Chapel Hill</td>\n",
       "      <td>NaN</td>\n",
       "      <td>NaN</td>\n",
       "      <td>5.90(w) x 9.10(h) x 1.30(d)</td>\n",
       "    </tr>\n",
       "    <tr>\n",
       "      <th>3</th>\n",
       "      <td>4</td>\n",
       "      <td>Big Stone Gap (Movie Tie-in Edition)</td>\n",
       "      <td>Adriana Trigiani</td>\n",
       "      <td>9781101967447</td>\n",
       "      <td>Random House Publishing Group</td>\n",
       "      <td>Media Tie</td>\n",
       "      <td>320.0</td>\n",
       "      <td>7.90(w) x 5.10(h) x 0.80(d)</td>\n",
       "    </tr>\n",
       "    <tr>\n",
       "      <th>4</th>\n",
       "      <td>5</td>\n",
       "      <td>Death of a Double Dipper</td>\n",
       "      <td>Angela Pepper</td>\n",
       "      <td>9781546502661</td>\n",
       "      <td>CreateSpace Publishing</td>\n",
       "      <td>NaN</td>\n",
       "      <td>390.0</td>\n",
       "      <td>5.00(w) x 8.00(h) x 0.80(d)</td>\n",
       "    </tr>\n",
       "  </tbody>\n",
       "</table>\n",
       "</div>"
      ],
      "text/plain": [
       "   ID                                     title  \\\n",
       "0   1      Cry Wolf (Alpha and Omega Series #1)   \n",
       "1   2                       DK Braille: Animals   \n",
       "2   3  An American Marriage (Oprah's Book Club)   \n",
       "3   4      Big Stone Gap (Movie Tie-in Edition)   \n",
       "4   5                  Death of a Double Dipper   \n",
       "\n",
       "                                author           isbn  \\\n",
       "0                      Patricia Briggs  9780441016150   \n",
       "1  Dorling Kindersley Publishing Staff  9781465436115   \n",
       "2                         Tayari Jones  9781616208776   \n",
       "3                     Adriana Trigiani  9781101967447   \n",
       "4                        Angela Pepper  9781546502661   \n",
       "\n",
       "                        publisher      edition  pages  \\\n",
       "0        Penguin Publishing Group          NaN  320.0   \n",
       "1                              DK  Large Print   32.0   \n",
       "2  Algonquin Books of Chapel Hill          NaN    NaN   \n",
       "3   Random House Publishing Group    Media Tie  320.0   \n",
       "4          CreateSpace Publishing          NaN  390.0   \n",
       "\n",
       "                      dimension  \n",
       "0   4.10(w) x 6.70(h) x 1.10(d)  \n",
       "1  8.60(w) x 10.70(h) x 0.90(d)  \n",
       "2   5.90(w) x 9.10(h) x 1.30(d)  \n",
       "3   7.90(w) x 5.10(h) x 0.80(d)  \n",
       "4   5.00(w) x 8.00(h) x 0.80(d)  "
      ]
     },
     "execution_count": 2,
     "metadata": {},
     "output_type": "execute_result"
    }
   ],
   "source": [
    "A.head()"
   ]
  },
  {
   "cell_type": "code",
   "execution_count": 3,
   "metadata": {},
   "outputs": [
    {
     "data": {
      "text/html": [
       "<div>\n",
       "<style scoped>\n",
       "    .dataframe tbody tr th:only-of-type {\n",
       "        vertical-align: middle;\n",
       "    }\n",
       "\n",
       "    .dataframe tbody tr th {\n",
       "        vertical-align: top;\n",
       "    }\n",
       "\n",
       "    .dataframe thead th {\n",
       "        text-align: right;\n",
       "    }\n",
       "</style>\n",
       "<table border=\"1\" class=\"dataframe\">\n",
       "  <thead>\n",
       "    <tr style=\"text-align: right;\">\n",
       "      <th></th>\n",
       "      <th>ID</th>\n",
       "      <th>title</th>\n",
       "      <th>author</th>\n",
       "      <th>isbn</th>\n",
       "      <th>publisher</th>\n",
       "      <th>edition</th>\n",
       "      <th>pages</th>\n",
       "      <th>dimension</th>\n",
       "    </tr>\n",
       "  </thead>\n",
       "  <tbody>\n",
       "    <tr>\n",
       "      <th>0</th>\n",
       "      <td>1</td>\n",
       "      <td>Elements Books I-XIII</td>\n",
       "      <td>Euclid</td>\n",
       "      <td>9780760763124</td>\n",
       "      <td>Barnes &amp; Noble</td>\n",
       "      <td>Unknown</td>\n",
       "      <td>NaN</td>\n",
       "      <td>NaN</td>\n",
       "    </tr>\n",
       "    <tr>\n",
       "      <th>1</th>\n",
       "      <td>2</td>\n",
       "      <td>Blessed Anastacia</td>\n",
       "      <td>John Burdick</td>\n",
       "      <td>9780415912594</td>\n",
       "      <td>Routledge</td>\n",
       "      <td>Unknown</td>\n",
       "      <td>246 pages</td>\n",
       "      <td>6.22 x 9.18 x 0.77 inches</td>\n",
       "    </tr>\n",
       "    <tr>\n",
       "      <th>2</th>\n",
       "      <td>3</td>\n",
       "      <td>The Neighbor</td>\n",
       "      <td>Lisa Gardner</td>\n",
       "      <td>9780553591903</td>\n",
       "      <td>Bantam</td>\n",
       "      <td>Unknown</td>\n",
       "      <td>483 pages</td>\n",
       "      <td>4.00 x 7.00 x 1.50 inches</td>\n",
       "    </tr>\n",
       "    <tr>\n",
       "      <th>3</th>\n",
       "      <td>4</td>\n",
       "      <td>Strain The Volume 5 The Night Eternal</td>\n",
       "      <td>Guillermo Del Torro</td>\n",
       "      <td>9781616556389</td>\n",
       "      <td>Dark Horse Books</td>\n",
       "      <td>Unknown</td>\n",
       "      <td>NaN</td>\n",
       "      <td>NaN</td>\n",
       "    </tr>\n",
       "    <tr>\n",
       "      <th>4</th>\n",
       "      <td>5</td>\n",
       "      <td>The Edge</td>\n",
       "      <td>Scott Wittenburg</td>\n",
       "      <td>9781411686601</td>\n",
       "      <td>Lulu Press</td>\n",
       "      <td>Unknown</td>\n",
       "      <td>196 pages</td>\n",
       "      <td>6.00 x 9.00 x 0.45 inches</td>\n",
       "    </tr>\n",
       "  </tbody>\n",
       "</table>\n",
       "</div>"
      ],
      "text/plain": [
       "   ID                                  title               author  \\\n",
       "0   1                  Elements Books I-XIII               Euclid   \n",
       "1   2                      Blessed Anastacia         John Burdick   \n",
       "2   3                           The Neighbor         Lisa Gardner   \n",
       "3   4  Strain The Volume 5 The Night Eternal  Guillermo Del Torro   \n",
       "4   5                               The Edge     Scott Wittenburg   \n",
       "\n",
       "            isbn         publisher  edition      pages  \\\n",
       "0  9780760763124    Barnes & Noble  Unknown        NaN   \n",
       "1  9780415912594         Routledge  Unknown  246 pages   \n",
       "2  9780553591903            Bantam  Unknown  483 pages   \n",
       "3  9781616556389  Dark Horse Books  Unknown        NaN   \n",
       "4  9781411686601        Lulu Press  Unknown  196 pages   \n",
       "\n",
       "                   dimension  \n",
       "0                        NaN  \n",
       "1  6.22 x 9.18 x 0.77 inches  \n",
       "2  4.00 x 7.00 x 1.50 inches  \n",
       "3                        NaN  \n",
       "4  6.00 x 9.00 x 0.45 inches  "
      ]
     },
     "execution_count": 3,
     "metadata": {},
     "output_type": "execute_result"
    }
   ],
   "source": [
    "B.head()"
   ]
  },
  {
   "cell_type": "code",
   "execution_count": 4,
   "metadata": {},
   "outputs": [
    {
     "name": "stdout",
     "output_type": "stream",
     "text": [
      "A:  3645 \n",
      "B:  3632\n"
     ]
    }
   ],
   "source": [
    "print('A: ', len(A), '\\nB: ',len(B))"
   ]
  },
  {
   "cell_type": "markdown",
   "metadata": {},
   "source": [
    "### Apply the blocker"
   ]
  },
  {
   "cell_type": "code",
   "execution_count": 5,
   "metadata": {},
   "outputs": [
    {
     "name": "stderr",
     "output_type": "stream",
     "text": [
      "0% [##############################] 100% | ETA: 00:00:00\n",
      "Total time elapsed: 00:00:00\n",
      "0% [##############################] 100% | ETA: 00:00:00"
     ]
    },
    {
     "name": "stdout",
     "output_type": "stream",
     "text": [
      "D:  1889\n"
     ]
    },
    {
     "name": "stderr",
     "output_type": "stream",
     "text": [
      "\n",
      "Total time elapsed: 00:00:00\n"
     ]
    }
   ],
   "source": [
    "# Create overlap blocker\n",
    "ob = em.OverlapBlocker()\n",
    "# Block rule 1: titles share more than three words, split by whitespaces\n",
    "C = ob.block_tables(A, B, 'title', 'title', rem_stop_words = True, overlap_size = 3, \n",
    "\tl_output_attrs=['title', 'author', 'isbn', 'publisher', 'edition', 'dimension'], \n",
    "\tr_output_attrs=['title', 'author', 'isbn', 'publisher', 'edition', 'dimension'] )\n",
    "# Block rule 2: authors share more than two words, split by whitespaces\n",
    "D = ob.block_candset(C, 'author', 'author', rem_stop_words = True, overlap_size = 2)\n",
    "print('D: ', len(D))"
   ]
  },
  {
   "cell_type": "code",
   "execution_count": 6,
   "metadata": {},
   "outputs": [
    {
     "data": {
      "text/html": [
       "<div>\n",
       "<style scoped>\n",
       "    .dataframe tbody tr th:only-of-type {\n",
       "        vertical-align: middle;\n",
       "    }\n",
       "\n",
       "    .dataframe tbody tr th {\n",
       "        vertical-align: top;\n",
       "    }\n",
       "\n",
       "    .dataframe thead th {\n",
       "        text-align: right;\n",
       "    }\n",
       "</style>\n",
       "<table border=\"1\" class=\"dataframe\">\n",
       "  <thead>\n",
       "    <tr style=\"text-align: right;\">\n",
       "      <th></th>\n",
       "      <th>_id</th>\n",
       "      <th>ltable_ID</th>\n",
       "      <th>rtable_ID</th>\n",
       "      <th>ltable_title</th>\n",
       "      <th>ltable_author</th>\n",
       "      <th>ltable_publisher</th>\n",
       "      <th>ltable_edition</th>\n",
       "      <th>ltable_pages</th>\n",
       "      <th>ltable_dimension</th>\n",
       "      <th>rtable_title</th>\n",
       "      <th>rtable_author</th>\n",
       "      <th>rtable_publisher</th>\n",
       "      <th>rtable_edition</th>\n",
       "      <th>rtable_pages</th>\n",
       "      <th>rtable_dimension</th>\n",
       "    </tr>\n",
       "  </thead>\n",
       "  <tbody>\n",
       "    <tr>\n",
       "      <th>0</th>\n",
       "      <td>0</td>\n",
       "      <td>276</td>\n",
       "      <td>644</td>\n",
       "      <td>The Pilgrim's Progress Part One</td>\n",
       "      <td>John Bunyan</td>\n",
       "      <td>CreateSpace Publishing</td>\n",
       "      <td>NaN</td>\n",
       "      <td>102.0</td>\n",
       "      <td>6.00(w) x 9.00(h) x 0.21(d)</td>\n",
       "      <td>The Pilgrim's Progress</td>\n",
       "      <td>John Bunyan</td>\n",
       "      <td>CreateSpace Independent Publishing Platform</td>\n",
       "      <td>Unknown</td>\n",
       "      <td>NaN</td>\n",
       "      <td>NaN</td>\n",
       "    </tr>\n",
       "    <tr>\n",
       "      <th>1</th>\n",
       "      <td>1</td>\n",
       "      <td>1216</td>\n",
       "      <td>2026</td>\n",
       "      <td>How to Write a Blog</td>\n",
       "      <td>Inklyo</td>\n",
       "      <td>CreateSpace Publishing</td>\n",
       "      <td>NaN</td>\n",
       "      <td>136.0</td>\n",
       "      <td>6.00(w) x 9.00(h) x 0.30(d)</td>\n",
       "      <td>How to Write a Blog</td>\n",
       "      <td>Scribendi</td>\n",
       "      <td>CreateSpace Independent Publishing Platform</td>\n",
       "      <td>Unknown</td>\n",
       "      <td>NaN</td>\n",
       "      <td>NaN</td>\n",
       "    </tr>\n",
       "    <tr>\n",
       "      <th>2</th>\n",
       "      <td>2</td>\n",
       "      <td>3099</td>\n",
       "      <td>2576</td>\n",
       "      <td>Alexander Hamilton</td>\n",
       "      <td>Charles A. Conant</td>\n",
       "      <td>CreateSpace Publishing</td>\n",
       "      <td>NaN</td>\n",
       "      <td>38.0</td>\n",
       "      <td>6.00(w) x 1.25(h) x 9.00(d)</td>\n",
       "      <td>Alexander Hamilton (Spanish Edition)</td>\n",
       "      <td>Charles A. Conant</td>\n",
       "      <td>CreateSpace Independent Publishing Platform</td>\n",
       "      <td>Unknown</td>\n",
       "      <td>NaN</td>\n",
       "      <td>NaN</td>\n",
       "    </tr>\n",
       "    <tr>\n",
       "      <th>3</th>\n",
       "      <td>3</td>\n",
       "      <td>276</td>\n",
       "      <td>3482</td>\n",
       "      <td>The Pilgrim's Progress Part One</td>\n",
       "      <td>John Bunyan</td>\n",
       "      <td>CreateSpace Publishing</td>\n",
       "      <td>NaN</td>\n",
       "      <td>102.0</td>\n",
       "      <td>6.00(w) x 9.00(h) x 0.21(d)</td>\n",
       "      <td>The Pilgrim's Progress</td>\n",
       "      <td>John Bunyan</td>\n",
       "      <td>CreateSpace Independent Publishing Platform</td>\n",
       "      <td>Unknown</td>\n",
       "      <td>NaN</td>\n",
       "      <td>NaN</td>\n",
       "    </tr>\n",
       "    <tr>\n",
       "      <th>4</th>\n",
       "      <td>4</td>\n",
       "      <td>222</td>\n",
       "      <td>1057</td>\n",
       "      <td>Child of the Ghosts</td>\n",
       "      <td>Jonathan Moeller</td>\n",
       "      <td>CreateSpace Publishing</td>\n",
       "      <td>NaN</td>\n",
       "      <td>288.0</td>\n",
       "      <td>6.00(w) x 9.00(h) x 0.60(d)</td>\n",
       "      <td>Blade of the Ghosts</td>\n",
       "      <td>Jonathan Moeller</td>\n",
       "      <td>CreateSpace Independent Publishing Platform</td>\n",
       "      <td>Unknown</td>\n",
       "      <td>NaN</td>\n",
       "      <td>NaN</td>\n",
       "    </tr>\n",
       "  </tbody>\n",
       "</table>\n",
       "</div>"
      ],
      "text/plain": [
       "   _id  ltable_ID  rtable_ID                     ltable_title  \\\n",
       "0    0        276        644  The Pilgrim's Progress Part One   \n",
       "1    1       1216       2026              How to Write a Blog   \n",
       "2    2       3099       2576               Alexander Hamilton   \n",
       "3    3        276       3482  The Pilgrim's Progress Part One   \n",
       "4    4        222       1057              Child of the Ghosts   \n",
       "\n",
       "       ltable_author        ltable_publisher ltable_edition  ltable_pages  \\\n",
       "0        John Bunyan  CreateSpace Publishing            NaN         102.0   \n",
       "1             Inklyo  CreateSpace Publishing            NaN         136.0   \n",
       "2  Charles A. Conant  CreateSpace Publishing            NaN          38.0   \n",
       "3        John Bunyan  CreateSpace Publishing            NaN         102.0   \n",
       "4   Jonathan Moeller  CreateSpace Publishing            NaN         288.0   \n",
       "\n",
       "              ltable_dimension                          rtable_title  \\\n",
       "0  6.00(w) x 9.00(h) x 0.21(d)                The Pilgrim's Progress   \n",
       "1  6.00(w) x 9.00(h) x 0.30(d)                   How to Write a Blog   \n",
       "2  6.00(w) x 1.25(h) x 9.00(d)  Alexander Hamilton (Spanish Edition)   \n",
       "3  6.00(w) x 9.00(h) x 0.21(d)                The Pilgrim's Progress   \n",
       "4  6.00(w) x 9.00(h) x 0.60(d)                   Blade of the Ghosts   \n",
       "\n",
       "       rtable_author                             rtable_publisher  \\\n",
       "0        John Bunyan  CreateSpace Independent Publishing Platform   \n",
       "1          Scribendi  CreateSpace Independent Publishing Platform   \n",
       "2  Charles A. Conant  CreateSpace Independent Publishing Platform   \n",
       "3        John Bunyan  CreateSpace Independent Publishing Platform   \n",
       "4   Jonathan Moeller  CreateSpace Independent Publishing Platform   \n",
       "\n",
       "  rtable_edition rtable_pages rtable_dimension  \n",
       "0        Unknown          NaN              NaN  \n",
       "1        Unknown          NaN              NaN  \n",
       "2        Unknown          NaN              NaN  \n",
       "3        Unknown          NaN              NaN  \n",
       "4        Unknown          NaN              NaN  "
      ]
     },
     "execution_count": 6,
     "metadata": {},
     "output_type": "execute_result"
    }
   ],
   "source": [
    "# Debugging the blocker\n",
    "dbg = em.debug_blocker(D, A, B, output_size=200)\n",
    "dbg.head()"
   ]
  },
  {
   "cell_type": "markdown",
   "metadata": {},
   "source": [
    "### Do sampling and labeling"
   ]
  },
  {
   "cell_type": "code",
   "execution_count": 7,
   "metadata": {},
   "outputs": [],
   "source": [
    "# Sample candidate set of size 300\n",
    "S = em.sample_table(D, 300)"
   ]
  },
  {
   "cell_type": "code",
   "execution_count": 8,
   "metadata": {},
   "outputs": [],
   "source": [
    "#G = em.label_table(S, label_column_name = 'gold_labels')"
   ]
  },
  {
   "cell_type": "markdown",
   "metadata": {},
   "source": [
    "The above command could open a GUI for us to update label. Also, we could do the labeling offine and read the labeled data using the command below."
   ]
  },
  {
   "cell_type": "code",
   "execution_count": 9,
   "metadata": {},
   "outputs": [
    {
     "name": "stdout",
     "output_type": "stream",
     "text": [
      "G:  300\n"
     ]
    }
   ],
   "source": [
    "# Gold label\n",
    "G = em.read_csv_metadata('./labeled.csv', key='_id', fk_ltable='ltable_ID', fk_rtable='rtable_ID', ltable = A, rtable = B)\n",
    "print('G: ',len(G))"
   ]
  },
  {
   "cell_type": "markdown",
   "metadata": {},
   "source": [
    "### Split the labeled set G into set I, J"
   ]
  },
  {
   "cell_type": "code",
   "execution_count": 10,
   "metadata": {},
   "outputs": [],
   "source": [
    "# Split training set and test set\n",
    "train_test = em.split_train_test(G, train_proportion=0.5)\n",
    "I = train_test['train']\n",
    "I['ltable_edition'] = ''\n",
    "I['rtable_edition'] = ''\n",
    "I['ltable_pages'] = ''\n",
    "I['rtable_pages'] = ''\n",
    "J = train_test['test']\n",
    "J['ltable_edition'] = ''\n",
    "J['rtable_edition'] = ''\n",
    "J['ltable_pages'] = ''\n",
    "J['rtable_pages'] = ''"
   ]
  },
  {
   "cell_type": "markdown",
   "metadata": {},
   "source": [
    "Note that we made some columns empty. This was because of a discovery during debugging. See report for details."
   ]
  },
  {
   "cell_type": "markdown",
   "metadata": {},
   "source": [
    "### Create a set of ML-matchers"
   ]
  },
  {
   "cell_type": "code",
   "execution_count": 11,
   "metadata": {},
   "outputs": [],
   "source": [
    "# Create ML matchers\n",
    "dt = em.DTMatcher(name='DecisionTree')\n",
    "svm = em.SVMMatcher(name='SVM')\n",
    "rf = em.RFMatcher(name='RandomForest')\n",
    "lg = em.LogRegMatcher(name='LogisticRegression')\n",
    "ln = em.LinRegMatcher(name='LinearRegression')\n",
    "nb = em.NBMatcher(name='NaiveBayes')"
   ]
  },
  {
   "cell_type": "markdown",
   "metadata": {},
   "source": [
    "### Select the best matcher using set I"
   ]
  },
  {
   "cell_type": "code",
   "execution_count": 12,
   "metadata": {},
   "outputs": [
    {
     "name": "stderr",
     "output_type": "stream",
     "text": [
      "0% [##############################] 100% | ETA: 00:00:00\n",
      "Total time elapsed: 00:00:00\n"
     ]
    },
    {
     "name": "stdout",
     "output_type": "stream",
     "text": [
      "              Matcher  Average precision  Average recall  Average f1\n",
      "0        DecisionTree           0.928235        0.930211    0.940602\n",
      "1        RandomForest           0.975000        0.950000    0.955225\n",
      "2                 SVM           0.712852        0.848985    0.765040\n",
      "3    LinearRegression           0.986667        0.953100    0.971080\n",
      "4  LogisticRegression           0.961569        0.956725    0.937485\n",
      "5          NaiveBayes           0.942222        0.947753    0.944763\n"
     ]
    }
   ],
   "source": [
    "# Automatic feature generation\n",
    "F = em.get_features_for_matching(A, B, validate_inferred_attr_types = False)\n",
    "H = em.extract_feature_vecs(I, feature_table=F, attrs_after=['gold_labels'])\n",
    "# Fill missing values\n",
    "H.fillna(value='NaN', inplace=True)\n",
    "# Select the best matcher\n",
    "result = em.select_matcher([dt,rf, svm, ln, lg, nb], table=H, exclude_attrs=['_id', 'ltable_ID', 'rtable_ID', 'gold_labels'], k=5, target_attr='gold_labels', metric_to_select_matcher='f1')\n",
    "print(result['cv_stats'])\n",
    "best_matcher = result['selected_matcher']"
   ]
  },
  {
   "cell_type": "markdown",
   "metadata": {},
   "source": [
    "### Evaluate the best matcher Y using J"
   ]
  },
  {
   "cell_type": "code",
   "execution_count": 13,
   "metadata": {},
   "outputs": [
    {
     "name": "stderr",
     "output_type": "stream",
     "text": [
      "0% [##############################] 100% | ETA: 00:00:00\n",
      "Total time elapsed: 00:00:00\n"
     ]
    },
    {
     "name": "stdout",
     "output_type": "stream",
     "text": [
      "----------Best Matcher:  LinearRegression ----------\n",
      "Precision : 98.63% (72/73)\n",
      "Recall : 96.0% (72/75)\n",
      "F1 : 97.3%\n",
      "False positives : 1 (out of 73 positive predictions)\n",
      "False negatives : 3 (out of 77 negative predictions)\n"
     ]
    }
   ],
   "source": [
    "# Evaluate the best matcher\n",
    "L = em.extract_feature_vecs(J, feature_table=F, attrs_after=['gold_labels'])\n",
    "L.fillna(value='NaN', inplace=True)\n",
    "best_matcher.fit(table=H, exclude_attrs=['_id', 'ltable_ID', 'rtable_ID', 'gold_labels'], target_attr='gold_labels')\n",
    "predictions = best_matcher.predict(table=L, exclude_attrs=['_id', 'ltable_ID', 'rtable_ID', 'gold_labels'], target_attr='predicted_labels', append = True)\n",
    "eval_result = em.eval_matches(predictions, 'gold_labels', 'predicted_labels')\n",
    "print('----------Best Matcher: ', best_matcher.name, '----------')\n",
    "em.print_eval_summary(eval_result)"
   ]
  }
 ],
 "metadata": {
  "kernelspec": {
   "display_name": "Python 3",
   "language": "python",
   "name": "python3"
  },
  "language_info": {
   "codemirror_mode": {
    "name": "ipython",
    "version": 3
   },
   "file_extension": ".py",
   "mimetype": "text/x-python",
   "name": "python",
   "nbconvert_exporter": "python",
   "pygments_lexer": "ipython3",
   "version": "3.5.2"
  }
 },
 "nbformat": 4,
 "nbformat_minor": 2
}
